{
 "cells": [
  {
   "cell_type": "code",
   "execution_count": null,
   "metadata": {},
   "outputs": [],
   "source": [
    "1. Make a calculator using Python with addition , subtraction , multiplication ,\n",
    "division and power.\n",
    "2. Write a program to check if there is any numeric value in list using for loop\n",
    "3. Write a Python script to add a key to a dictionary\n",
    "4. Write a Python program to sum all the numeric items in a dictionary\n",
    "5. Write a program to identify duplicate values from list\n",
    "6. Write a Python script to check if a given key already exists in a dictionary"
   ]
  },
  {
   "cell_type": "markdown",
   "metadata": {},
   "source": [
    "# 1. Make a calculator using Python with addition , subtraction , multiplication , division and power."
   ]
  },
  {
   "cell_type": "code",
   "execution_count": 10,
   "metadata": {},
   "outputs": [
    {
     "name": "stdout",
     "output_type": "stream",
     "text": [
      "Enter the operation you wants to perfrom \n",
      " 1:Addition \n",
      " 2:Subtraction \n",
      " 3:multiplication \n",
      " 4:division \n",
      " 5:power \n",
      "4\n",
      "DIVISION\n",
      "INPUT FIRST NUMBER :25\n",
      "INPUT SECOND NUMBER :5\n",
      "THE DIVISION OF 25 & 5 = 5.0\n"
     ]
    }
   ],
   "source": [
    "a = int(input(\"Enter the operation you wants to perfrom \\n 1:Addition \\n 2:Subtraction \\n 3:multiplication \\n 4:division \\n 5:power \\n\"))\n",
    "if a == 1:\n",
    "    print(\"ADDITION\")\n",
    "    first = int(input(\"INPUT FIRST NUMBER :\"))\n",
    "    second = int(input(\"INPUT SECOND NUMBER :\"))\n",
    "    print(\"THE ADDITION OF\",first,\"&\",second,\"=\",first+second)\n",
    "elif a == 2:\n",
    "    print(\"SUBTRACTION\")\n",
    "    first = int(input(\"INPUT FIRST NUMBER :\"))\n",
    "    second = int(input(\"INPUT SECOND NUMBER :\"))\n",
    "    print(\"THE SUBTRACTION OF\",first,\"&\",second,\"=\",first-second)\n",
    "elif a == 3:\n",
    "    print(\"MULTIPLICATION\")\n",
    "    first = int(input(\"INPUT FIRST NUMBER :\"))\n",
    "    second = int(input(\"INPUT SECOND NUMBER :\"))\n",
    "    print(\"THE MULTIPLICATION OF\",first,\"&\",second,\"=\",first*second)\n",
    "elif a == 4:\n",
    "    print(\"DIVISION\")\n",
    "    first = int(input(\"INPUT FIRST NUMBER :\"))\n",
    "    second = int(input(\"INPUT SECOND NUMBER :\"))\n",
    "    print(\"THE DIVISION OF\",first,\"&\",second,\"=\",first / second)\n",
    "elif a == 5:\n",
    "    print(\"POWER\")\n",
    "    first = int(input(\"INPUT VALUE FOR VARIABLE :\"))\n",
    "    second = int(input(\"INPUT VALUE FOR POWER :\"))\n",
    "    print(\"THE POWER OF\",first,\"^\",second,\"=\",first ** second)\n",
    "else:\n",
    "    print(\"INVALID INPUT ....!\")"
   ]
  },
  {
   "cell_type": "markdown",
   "metadata": {},
   "source": [
    "# 2. Write a program to check if there is any numeric value in list using for loop"
   ]
  },
  {
   "cell_type": "code",
   "execution_count": 81,
   "metadata": {},
   "outputs": [
    {
     "name": "stdout",
     "output_type": "stream",
     "text": [
      "Numeric values are !!\n",
      "8\n",
      "6\n",
      "8\n",
      "6\n",
      "10\n",
      "1011\n"
     ]
    }
   ],
   "source": [
    "value = [\"hello\",True,8,6,\"yess\",8 , 6 ,10 , 1011 ]\n",
    "print(\"Numeric values are !!\")\n",
    "for x in range(len(value)):\n",
    "    if type(value[x]) == int:\n",
    "        print(value[x])\n",
    "    \n",
    "   \n",
    "        \n"
   ]
  },
  {
   "cell_type": "markdown",
   "metadata": {},
   "source": [
    "# 3. Write a Python script to add a key to a dictionary"
   ]
  },
  {
   "cell_type": "code",
   "execution_count": 39,
   "metadata": {},
   "outputs": [
    {
     "name": "stdout",
     "output_type": "stream",
     "text": [
      "{'name': 'ali', 'father name': 'hussain', 'roll no': 'CSC-17F-99', 'deparemnt': 'computer science'}\n"
     ]
    }
   ],
   "source": [
    "student = {\"name\": 'ali' ,'father name' :'hussain' ,'roll no': 'CSC-17F-99' }\n",
    "student[\"deparemnt\"] =\"computer science\" \n",
    "print(student)\n"
   ]
  },
  {
   "cell_type": "markdown",
   "metadata": {},
   "source": [
    "# 4. Write a Python program to sum all the numeric items in a dictionary"
   ]
  },
  {
   "cell_type": "code",
   "execution_count": 73,
   "metadata": {},
   "outputs": [
    {
     "name": "stdout",
     "output_type": "stream",
     "text": [
      "16\n"
     ]
    }
   ],
   "source": [
    "data = {'A':3 ,'B':5 ,'C':8}\n",
    "print(sum(data.values()))\n"
   ]
  },
  {
   "cell_type": "markdown",
   "metadata": {},
   "source": [
    "# 5. Write a program to identify duplicate values from list"
   ]
  },
  {
   "cell_type": "code",
   "execution_count": 89,
   "metadata": {},
   "outputs": [
    {
     "name": "stdout",
     "output_type": "stream",
     "text": [
      "The duplicating values are [3, 4, 'Ali', 5, 3, 'Ali', 4, 5]\n"
     ]
    }
   ],
   "source": [
    "check = [3,4,\"Ali\",\"kashif\",6,20,5,3,\"Hassan\",\"Ali\",4,5,11,12]\n",
    "values = []\n",
    "for n in check:\n",
    "    a = check.count(n)\n",
    "    if a > 1 :\n",
    "        if a in values:\n",
    "            continue \n",
    "        else:\n",
    "            values.append(n)\n",
    "print(\"The duplicating values are\", values)\n",
    "        "
   ]
  },
  {
   "cell_type": "markdown",
   "metadata": {},
   "source": [
    "# 6. Write a Python script to check if a given key already exists in a dictionary"
   ]
  },
  {
   "cell_type": "code",
   "execution_count": 91,
   "metadata": {},
   "outputs": [
    {
     "name": "stdout",
     "output_type": "stream",
     "text": [
      "{'name': 'Muhammad Mujtaba', 'id': 'emp-992', 'city': 'karachi', 'country': 'pakistan'}\n",
      "Enter key to checkname\n",
      "yes ! name  is already exist !\n"
     ]
    }
   ],
   "source": [
    "employee = {\"name\" : \"Muhammad Mujtaba\" ,\"id\":\"emp-992\",\"city\":\"karachi\",\"country\":\"pakistan\"}\n",
    "print(employee)\n",
    "check_key = input(\"Enter key to check\")\n",
    "if check_key in employee.keys():\n",
    "    print(\"yes !\",check_key , \" is already exist !\")\n",
    "else:\n",
    "    print(\"No !\",check_key , \" is already exist !\")"
   ]
  },
  {
   "cell_type": "code",
   "execution_count": null,
   "metadata": {},
   "outputs": [],
   "source": []
  }
 ],
 "metadata": {
  "kernelspec": {
   "display_name": "Python 3",
   "language": "python",
   "name": "python3"
  },
  "language_info": {
   "codemirror_mode": {
    "name": "ipython",
    "version": 3
   },
   "file_extension": ".py",
   "mimetype": "text/x-python",
   "name": "python",
   "nbconvert_exporter": "python",
   "pygments_lexer": "ipython3",
   "version": "3.7.3"
  }
 },
 "nbformat": 4,
 "nbformat_minor": 2
}
