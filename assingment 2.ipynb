{
 "cells": [
  {
   "cell_type": "code",
   "execution_count": null,
   "metadata": {},
   "outputs": [],
   "source": [
    "1. Write a program which takes 5 inputs from user for different subject’s\n",
    "marks, total it and generate mark sheet using grades ?\n",
    "2. Write a program which take input from user and identify that the given\n",
    "number is even or odd?\n",
    "3. Write a program which print the length of the list?\n",
    "4. Write a Python program to sum all the numeric items in a list?\n",
    "5. Write a Python program to get the largest number from a numeric list.\n",
    "6. Take a list, say for example this one:\n",
    "a = [1, 1, 2, 3, 5, 8, 13, 21, 34, 55, 89]\n",
    "and write a program that prints out all the elements of the list that are\n",
    "less than 5."
   ]
  },
  {
   "cell_type": "markdown",
   "metadata": {},
   "source": [
    "# 1. Write a program which takes 5 inputs from user for different subject’s marks, total it and generate mark sheet using grades ?"
   ]
  },
  {
   "cell_type": "code",
   "execution_count": 24,
   "metadata": {},
   "outputs": [
    {
     "name": "stdout",
     "output_type": "stream",
     "text": [
      "ENTER THE MARKS OF ENGLISH :45\n",
      "ENTER THE MARKS OF URDU :45\n",
      "ENTER THE MARKS OF MATHMATICS :46\n",
      "ENTER THE MARKS OF PHYSICS :45\n",
      "ENTER THE MARKS OF CHEMISTRY :45\n",
      "YOU ARE FAIL !\n"
     ]
    }
   ],
   "source": [
    "a = int(input(\"ENTER THE MARKS OF ENGLISH :\"))\n",
    "b = int(input(\"ENTER THE MARKS OF URDU :\"))\n",
    "c = int(input(\"ENTER THE MARKS OF MATHMATICS :\"))\n",
    "d = int(input(\"ENTER THE MARKS OF PHYSICS :\"))\n",
    "e = int(input(\"ENTER THE MARKS OF CHEMISTRY :\"))\n",
    "total_marks=500 \n",
    "f = a + b + c + d + e\n",
    "g= (f/total_marks) *100\n",
    "if g >= 90:\n",
    "    print(\"YOU GOT 'A' GRADE !\")\n",
    "elif g >= 75:\n",
    "    print(\"YOU GOT 'B' GRADE !\")\n",
    "elif g >= 65:\n",
    "    print(\"YOU GOT 'C' GRADE !\")\n",
    "elif g >= 50:\n",
    "    print(\"YOU GOT 'D' GRADE !\")\n",
    "else:\n",
    "    print(\"YOU ARE FAIL !\")"
   ]
  },
  {
   "cell_type": "markdown",
   "metadata": {},
   "source": [
    "# 2. Write a program which take input from user and identify that the given number is even or odd?"
   ]
  },
  {
   "cell_type": "code",
   "execution_count": 42,
   "metadata": {},
   "outputs": [
    {
     "name": "stdout",
     "output_type": "stream",
     "text": [
      "ENTER ANY NUMBER OF YOUR CHOICE !! : 9\n",
      "YOUR ENTERED NUMBER IS ODD\n"
     ]
    }
   ],
   "source": [
    "num = float(input(\"ENTER ANY NUMBER OF YOUR CHOICE !! : \"))\n",
    "if num % 2 == 0:\n",
    "    print(\"YOUR ENTERED NUMBER IS EVEN\")\n",
    "if num % 2 == 1:\n",
    "    print(\"YOUR ENTERED NUMBER IS ODD\")\n",
    "else :\n",
    "    print(\"INVALID INPUT\")\n",
    "    "
   ]
  },
  {
   "cell_type": "markdown",
   "metadata": {},
   "source": [
    "# 3. Write a program which print the length of the list?"
   ]
  },
  {
   "cell_type": "code",
   "execution_count": 49,
   "metadata": {},
   "outputs": [
    {
     "name": "stdout",
     "output_type": "stream",
     "text": [
      "5\n"
     ]
    }
   ],
   "source": [
    "name = list([\"Ali\",\"Kashif\",\"Imran\",True,12])\n",
    "print(len(name))\n"
   ]
  },
  {
   "cell_type": "markdown",
   "metadata": {},
   "source": [
    "# 4. Write a Python program to sum all the numeric items in a list?"
   ]
  },
  {
   "cell_type": "code",
   "execution_count": 87,
   "metadata": {},
   "outputs": [
    {
     "name": "stdout",
     "output_type": "stream",
     "text": [
      "27\n"
     ]
    }
   ],
   "source": [
    "numbers =list ([5,6,7,9])\n",
    "#list_addtion = numbers[0] +numbers[1] +numbers[2] +numbers[3]\n",
    "#print(list_addtion)\n",
    "\"'Alternative '\"\n",
    "print(sum(numbers))\n"
   ]
  },
  {
   "cell_type": "markdown",
   "metadata": {},
   "source": [
    "# 5. Write a Python program to get the largest number from a numeric list."
   ]
  },
  {
   "cell_type": "code",
   "execution_count": 58,
   "metadata": {},
   "outputs": [
    {
     "name": "stdout",
     "output_type": "stream",
     "text": [
      "66\n"
     ]
    }
   ],
   "source": [
    "maximum_number =list ([66,6,7,9])\n",
    "print(max(maximum_number))"
   ]
  },
  {
   "cell_type": "markdown",
   "metadata": {},
   "source": [
    "# 6. Take a list, say for example this one:\n",
    "# a = [1, 1, 2, 3, 5, 8, 13, 21, 34, 55, 89]                                                                    and write a program that prints out all the elements of the list that are less than 5."
   ]
  },
  {
   "cell_type": "code",
   "execution_count": 108,
   "metadata": {},
   "outputs": [
    {
     "name": "stdout",
     "output_type": "stream",
     "text": [
      "1\n",
      "1\n",
      "2\n",
      "3\n"
     ]
    }
   ],
   "source": [
    "elements = list([1, 1, 2, 3, 5, 8, 13, 21, 34, 55, 89])\n",
    "x= len (elements)\n",
    "for i in range(x):\n",
    "    if elements[i]<5:\n",
    "        print(elements[i])\n",
    "    \n"
   ]
  }
 ],
 "metadata": {
  "kernelspec": {
   "display_name": "Python 3",
   "language": "python",
   "name": "python3"
  },
  "language_info": {
   "codemirror_mode": {
    "name": "ipython",
    "version": 3
   },
   "file_extension": ".py",
   "mimetype": "text/x-python",
   "name": "python",
   "nbconvert_exporter": "python",
   "pygments_lexer": "ipython3",
   "version": "3.7.3"
  }
 },
 "nbformat": 4,
 "nbformat_minor": 2
}
