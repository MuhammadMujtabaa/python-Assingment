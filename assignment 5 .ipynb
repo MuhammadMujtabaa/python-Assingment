{
 "cells": [
  {
   "cell_type": "code",
   "execution_count": null,
   "metadata": {},
   "outputs": [],
   "source": [
    "Question:1\n",
    "Write a Python function to calculate the factorial of a number (a non-negative\n",
    "integer). The function accepts the number as an argument.\n",
    "Question:2\n",
    "Write a Python function that accepts a string and calculate the number of upper\n",
    "case letters and lower case letters.\n",
    "Question:3\n",
    "Write a Python function to print the even numbers from a given list.\n",
    "Question:4\n",
    "Write a Python function that checks whether a passed string is palindrome or not.\n",
    "Note: A palindrome is a word, phrase, or sequence that reads the same\n",
    "backward as forward, e.g., madam\n",
    "Question:5\n",
    "Write a Python function that takes a number as a parameter and check the\n",
    "number is prime or not.\n",
    "Question: 6\n",
    "Suppose a customer is shopping in a market and you need to print all the items\n",
    "which user bought from market.\n",
    "Write a function which accepts the multiple arguments of user shopping list and\n",
    "print all the items which user bought from market.\n",
    "(Hint: Arbitrary Argument concept can make this task ease)"
   ]
  },
  {
   "cell_type": "markdown",
   "metadata": {},
   "source": [
    "# Question:1 Write a Python function to calculate the factorial of a number (a non-negative integer). The function accepts the number as an argument."
   ]
  },
  {
   "cell_type": "code",
   "execution_count": 67,
   "metadata": {},
   "outputs": [
    {
     "name": "stdout",
     "output_type": "stream",
     "text": [
      "Enter the number of which you wants make a factorial :5\n"
     ]
    },
    {
     "data": {
      "text/plain": [
       "120"
      ]
     },
     "execution_count": 67,
     "metadata": {},
     "output_type": "execute_result"
    }
   ],
   "source": [
    "def factorial(a):\n",
    "    if a == 0:\n",
    "        return 1 \n",
    "    else:\n",
    "        b.append(factorial)\n",
    "        return a*factorial(a-1)\n",
    "   \n",
    "    \n",
    "\n",
    "\n",
    "fact = int(input(\"Enter the number of which you wants make a factorial :\"))\n",
    "factorial(fact)\n"
   ]
  },
  {
   "cell_type": "markdown",
   "metadata": {},
   "source": [
    "# Write a Python function that accepts a string and calculate the number of upper\n",
    "case letters and lower case letters.\n",
    "Question:3"
   ]
  },
  {
   "cell_type": "code",
   "execution_count": 70,
   "metadata": {},
   "outputs": [
    {
     "name": "stdout",
     "output_type": "stream",
     "text": [
      "Enter the string Happy Birth DAy Hajii \n",
      "Upper Case Letters are 5 and they are ['H', 'B', 'D', 'A', 'H'] \n",
      "Lower Case Letters are 17 and they are ['a', 'p', 'p', 'y', ' ', 'i', 'r', 't', 'h', ' ', 'y', ' ', 'a', 'j', 'i', 'i', ' ']\n"
     ]
    }
   ],
   "source": [
    "u=[]\n",
    "l=[]\n",
    "def upper_lower(a):\n",
    "    for  letters in a:\n",
    "        #print(letters)\n",
    "        if letters.isupper() :\n",
    "            \n",
    "            u.append(letters)\n",
    "        else:\n",
    "            l.append(letters)\n",
    "            \n",
    "            \n",
    "    print(\"Upper Case Letters are\",len(u),\"and they are\",u,\"\\nLower Case Letters are\",len(l),\"and they are\",l)\n",
    "    \n",
    "            \n",
    "            \n",
    "lower_and_upper = input(\"Enter the string \")        \n",
    "upper_lower(lower_and_upper)\n",
    "    \n"
   ]
  },
  {
   "cell_type": "markdown",
   "metadata": {},
   "source": [
    "# Write a Python function to print the even numbers from a given list."
   ]
  },
  {
   "cell_type": "code",
   "execution_count": 62,
   "metadata": {},
   "outputs": [
    {
     "name": "stdout",
     "output_type": "stream",
     "text": [
      "Enter how many numnbers you wants to enter ?7\n",
      "Enter number2\n",
      "Enter number4\n",
      "Enter number2\n",
      "Enter number5\n",
      "Enter number9\n",
      "Enter number0\n",
      "Enter number2\n",
      "Even numbers are [2, 4, 2, 0, 2] and Numbers are [5, 9]\n"
     ]
    }
   ],
   "source": [
    "def even_odd(a):\n",
    "    even=[]\n",
    "    odd=[]\n",
    "    for num in a:\n",
    "        if (num % 2) == 0:\n",
    "            even.append(num)\n",
    "        else:\n",
    "            odd.append(num)\n",
    "    print(\"Even numbers are\",even,\"and Numbers are\",odd)  \n",
    "    \n",
    "li = []\n",
    "t = int(input(\"Enter how many numnbers you wants to enter ?\"))\n",
    "for i in range(t):\n",
    "    number=int(input(\"Enter number\"))\n",
    "    li.append(number)\n",
    "even_odd(li)\n",
    "\n"
   ]
  },
  {
   "cell_type": "markdown",
   "metadata": {},
   "source": [
    "# Write a Python function that checks whether a passed string is palindrome or not.Note: A palindrome is a word, phrase, or sequence that reads the samebackward as forward, e.g., madam"
   ]
  },
  {
   "cell_type": "code",
   "execution_count": 89,
   "metadata": {},
   "outputs": [
    {
     "name": "stdout",
     "output_type": "stream",
     "text": [
      "Enter the string :madam\n",
      "Yes Entered String is Palindrome as madam\n"
     ]
    }
   ],
   "source": [
    "def palindrome(palin):\n",
    "    if palin == (palin[::-1]):\n",
    "        print(\"Yes Entered String is Palindrome as\",palin)\n",
    "    else:\n",
    "        print(\"No Entered String is not a Palindrome as reverse of \",palin,\"is\",palin[::-1])\n",
    "\n",
    "stringg = input(\"Enter the string :\")\n",
    "palindrome(stringg)"
   ]
  },
  {
   "cell_type": "code",
   "execution_count": 90,
   "metadata": {},
   "outputs": [
    {
     "name": "stdout",
     "output_type": "stream",
     "text": [
      "Enter the string :Kashiff\n",
      "No Entered String is not a Palindrome as reverse of  Kashiff is ffihsaK\n"
     ]
    }
   ],
   "source": [
    "def palindrome(palin):\n",
    "    if palin == (palin[::-1]):\n",
    "        print(\"Yes Entered String is Palindrome as\",palin)\n",
    "    else:\n",
    "        print(\"No Entered String is not a Palindrome as reverse of \",palin,\"is\",palin[::-1])\n",
    "\n",
    "stringg = input(\"Enter the string :\")\n",
    "palindrome(stringg)"
   ]
  },
  {
   "cell_type": "markdown",
   "metadata": {},
   "source": [
    "# Write a Python function that takes a number as a parameter and check the number is prime or not."
   ]
  },
  {
   "cell_type": "code",
   "execution_count": 64,
   "metadata": {},
   "outputs": [
    {
     "name": "stdout",
     "output_type": "stream",
     "text": [
      "3 is a prime number\n"
     ]
    }
   ],
   "source": [
    "\n",
    "def checkprime(num):\n",
    "    if num > 1:\n",
    "        for i in range(2,num):\n",
    "            if (num % i) == 0:\n",
    "                print(num,\"is not a prime number\")\n",
    "                break\n",
    "        else:\n",
    "            print(num,\"is a prime number\")\n",
    "\n",
    "    else:\n",
    "        print(num,\"is not a prime number\")\n",
    "checkprime(3)"
   ]
  },
  {
   "cell_type": "markdown",
   "metadata": {},
   "source": [
    "# Suppose a customer is shopping in a market and you need to print all the items which user bought from market."
   ]
  },
  {
   "cell_type": "code",
   "execution_count": 61,
   "metadata": {},
   "outputs": [
    {
     "name": "stdout",
     "output_type": "stream",
     "text": [
      "Enter the name of the customer Kashan Khan\n",
      "Enter the numbers of items bought by the coustomer :6\n",
      "Name of the Item : Dove soap\n",
      "Name of the Item : Biscuits \n",
      "Name of the Item : Mango jam\n",
      "Name of the Item : Sugar\n",
      "Name of the Item : Rice\n",
      "Name of the Item : Knor noddles \n",
      "************Awamii store************ \n",
      "Customer : Miss/Mr Kashan Khan \n",
      " The Items bought are\n",
      "\n",
      "['Dove soap', 'Biscuits ', 'Mango jam', 'Sugar', 'Rice', 'Knor noddles ']\n"
     ]
    }
   ],
   "source": [
    "def shoping():\n",
    "        products= []\n",
    "        namec=input(\"Enter the name of the customer \")\n",
    "        items = int( input(\"Enter the numbers of items bought by the coustomer :\"))\n",
    "\n",
    "        for i in range(items):\n",
    "                    bitems= input(\"Name of the Item : \")\n",
    "                    products.append(bitems)\n",
    "        print(\"************Awamii store************ \\nCustomer : Miss/Mr\",namec,\"\\n The Items bought are\\n\")\n",
    "        print(products)\n",
    "     \n",
    "shoping()\n"
   ]
  },
  {
   "cell_type": "markdown",
   "metadata": {},
   "source": [
    "# Write a function which accepts the multiple arguments of user shopping list and print all the items which user bought from market. (Hint: Arbitrary Argument concept can make this task ease)"
   ]
  },
  {
   "cell_type": "code",
   "execution_count": null,
   "metadata": {},
   "outputs": [],
   "source": []
  },
  {
   "cell_type": "code",
   "execution_count": null,
   "metadata": {},
   "outputs": [],
   "source": []
  },
  {
   "cell_type": "code",
   "execution_count": null,
   "metadata": {},
   "outputs": [],
   "source": []
  }
 ],
 "metadata": {
  "kernelspec": {
   "display_name": "Python 3",
   "language": "python",
   "name": "python3"
  },
  "language_info": {
   "codemirror_mode": {
    "name": "ipython",
    "version": 3
   },
   "file_extension": ".py",
   "mimetype": "text/x-python",
   "name": "python",
   "nbconvert_exporter": "python",
   "pygments_lexer": "ipython3",
   "version": "3.7.3"
  }
 },
 "nbformat": 4,
 "nbformat_minor": 2
}
