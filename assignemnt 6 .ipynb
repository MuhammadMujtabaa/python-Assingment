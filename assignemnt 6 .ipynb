{
 "cells": [
  {
   "cell_type": "markdown",
   "metadata": {},
   "source": [
    "# Question 1: Define Object Oriented Programming Language?\n",
    "Answer : Object-oriented programming is a programming paradigm. Object-oriented programming (OOP) is a programming language model in which programs are organized around data, or objects, rather than functions and logic. Which can contain data, in the form of fields, and code, in the form of procedures. A feature of objects is an object's procedures that can access and often modify the data fields of the object with which they are associated. An object can be defined as a data field that has unique attributes and behavior.\n",
    "\n",
    "# Question 2: List down the Benefits of OOP?\n",
    "It provides a clear modular structure for programs which makes it good for defining abstract datatypes in which implementation details are hidden.\n",
    "\n",
    "Objects can also be reused within an across applications\n",
    "\n",
    "It makes software easier to maintain.\n",
    "\n",
    "Reuse also enables faster development.\n",
    "\n",
    "# Question 3: Differentiate between function and method?\n",
    "Function: A function is a piece of code that is called by name. It can be passed data to operate on (i.e. the parameters) and can optionally return data (the return value). All data that is passed to a function is explicitly passed.\n",
    "\n",
    "Method: A method is a piece of code that is called by a name that is associated with an object.\n",
    "\n",
    "# Question 4: Define the following terms:\n",
    "Class: A class is a blueprint for creating objects (a particular data structure), providing initial values for state (member variables or attributes), and implementations of behavior (member functions or methods). The user-defined objects are created using the class keyword.\n",
    "\n",
    "Object: Object is an instance of a particular class or subclass with the class's own methods or procedures and data variables.\n",
    "\n",
    "Attribute: Attributes are the variables defined within the class.\n",
    "\n",
    "Behavior: Behaviors are the functions defined within the class\n",
    "\n",
    "# Question 5: Write a code in python in which create a class named it Car which have 5 attributes such like (model, color and name etc.) and 3 methods. And create 5 object instance from that class"
   ]
  },
  {
   "cell_type": "code",
   "execution_count": null,
   "metadata": {},
   "outputs": [],
   "source": [
    "class car():\n",
    "    \n",
    "    # create class attributes\n",
    "    def __init__(self, company, name, model, color, mileage):\n",
    "        self.company = company\n",
    "        self.name = name\n",
    "        self.model = model\n",
    "        self.color = color\n",
    "        self.mileage = mileage\n",
    "        \n",
    "    # create class methods\n",
    "    def info(self):\n",
    "        print (\"Company :\",self.company)\n",
    "        print (\"Name :\",self.name)\n",
    "        print (\"Model :\",self.model)\n",
    "        print (\"Color :\",self.color)\n",
    "        print (\"Mileage :\",self.mileage)\n",
    "    \n",
    "    def start(self):\n",
    "        print (\"Engine started\")\n",
    "        \n",
    "    def stop(self):\n",
    "        print (\"Engine switched off\")"
   ]
  },
  {
   "cell_type": "code",
   "execution_count": null,
   "metadata": {},
   "outputs": [],
   "source": [
    "car1 = car(\"Honda\",\"City\",\"2019\",\"Black\",\"40 km/l\")"
   ]
  },
  {
   "cell_type": "code",
   "execution_count": null,
   "metadata": {},
   "outputs": [],
   "source": [
    "car2 = car(\"Suzaki\",\"City\",\"2014\",\"white\",\"40 km/l\")"
   ]
  },
  {
   "cell_type": "code",
   "execution_count": null,
   "metadata": {},
   "outputs": [],
   "source": [
    "car3 = car(\"Suzaki\",\"City\",\"2019\",\"Black\",\"40 km/l\")"
   ]
  },
  {
   "cell_type": "code",
   "execution_count": null,
   "metadata": {},
   "outputs": [],
   "source": [
    "car4 = car(\"Toyata \",\"City\",\"2019\",\"Black\",\"40 km/l\")"
   ]
  },
  {
   "cell_type": "code",
   "execution_count": null,
   "metadata": {},
   "outputs": [],
   "source": [
    "car5 = car(\"Honda\",\"City\",\"2019\",\"Black\",\"40 km/l\")"
   ]
  }
 ],
 "metadata": {
  "kernelspec": {
   "display_name": "Python 3",
   "language": "python",
   "name": "python3"
  },
  "language_info": {
   "codemirror_mode": {
    "name": "ipython",
    "version": 3
   },
   "file_extension": ".py",
   "mimetype": "text/x-python",
   "name": "python",
   "nbconvert_exporter": "python",
   "pygments_lexer": "ipython3",
   "version": "3.7.3"
  }
 },
 "nbformat": 4,
 "nbformat_minor": 2
}
