{
 "cells": [
  {
   "cell_type": "code",
   "execution_count": null,
   "metadata": {},
   "outputs": [],
   "source": [
    "Question1:\n",
    "Use a dictionary to store information about a person you know. Store their first name, last name, age,\n",
    "and the city in which they live. You should have keys such as first_name, last_name, age, and city. Print\n",
    "each piece of information stored in your dictionary. Add a new key value pair about qualification then\n",
    "update the qualification value to high academic level then delete it.\n",
    "\n",
    "Question2:\n",
    "Make a dictionary called cities. Use the names of three cities as keys in your dictionary. Create a\n",
    "dictionary of information about each city and include the country that the city is in, its approximate\n",
    "population, and one fact about that city. The keys for each city’s dictionary should be something like\n",
    "country, population, and fact. Print the name of each city and all of the information you have stored\n",
    "about it.\n",
    "\n",
    "Question3:\n",
    "A movie theater charges different ticket prices depending on a person’s age. If a person is under the age\n",
    "of 3, the ticket is free; if they are between 3 and 12, the ticket is $10; and if they are over age 12, the\n",
    "ticket is $15. Write a loop in which you ask users their age, and then tell them the cost of their movie\n",
    "ticket.\n",
    "\n",
    "Question4:\n",
    "Write a function called favorite_book() that accepts one parameter, title. The function should print a\n",
    "message, such as One of my favorite books is Alice in Wonderland. Call the function, making sure to\n",
    "include a book title as an argument in the function call.\n",
    "\n",
    "Question5:\n",
    "Guess the number game\n",
    "Write a program which randomly generate a number between 1 to 30 and ask the user in input field to\n",
    "guess the correct number. Give three chances to user guess the number and also give hint to user if\n",
    "hidden number is greater or smaller than the number he given to input field."
   ]
  },
  {
   "cell_type": "markdown",
   "metadata": {},
   "source": [
    "# Question1:\n",
    "Use a dictionary to store information about a person you know. Store their first name, last name, age,and the city in which they live. You should have keys such as first_name, last_name, age, and city. Print each piece of information stored in your dictionary. Add a new key value pair about qualification then update the qualification value to high academic level then delete it.\n"
   ]
  },
  {
   "cell_type": "code",
   "execution_count": 8,
   "metadata": {},
   "outputs": [
    {
     "name": "stdout",
     "output_type": "stream",
     "text": [
      "{'first_name': 'Muhammad Adeel', 'last_name': 'Hanif', 'age': 21, 'city': 'karachi'}\n",
      "{'first_name': 'Muhammad Adeel', 'last_name': 'Hanif', 'age': 21, 'city': 'karachi', 'qualification': 'B.com'}\n",
      "{'first_name': 'Muhammad Adeel', 'last_name': 'Hanif', 'age': 21, 'city': 'karachi', 'qualification': 'High academic level'}\n",
      "{'first_name': 'Muhammad Adeel', 'last_name': 'Hanif', 'age': 21, 'city': 'karachi'}\n"
     ]
    }
   ],
   "source": [
    "person = {'first_name':\"Muhammad Adeel\" ,'last_name':\"Hanif\",'age':21,'city':\"karachi\"}\n",
    "print(person)\n",
    "person[\"qualification\"] = \"B.com\"\n",
    "print(person)\n",
    "person[\"qualification\"] = \"High academic level\"\n",
    "print(person)\n",
    "del person[\"qualification\"]\n",
    "print(person)\n"
   ]
  },
  {
   "cell_type": "markdown",
   "metadata": {},
   "source": [
    "# Question2:\n",
    "Make a dictionary called cities. Use the names of three cities as keys in your dictionary. Create a\n",
    "dictionary of information about each city and include the country that the city is in, its approximate\n",
    "population, and one fact about that city. The keys for each city’s dictionary should be something like\n",
    "country, population, and fact. Print the name of each city and all of the information you have stored\n",
    "about it."
   ]
  },
  {
   "cell_type": "code",
   "execution_count": 60,
   "metadata": {},
   "outputs": [
    {
     "name": "stdout",
     "output_type": "stream",
     "text": [
      "NewYork\n",
      "\t country : USA\n",
      "\t population : 8.623 million\n",
      "\t fact : More than 800 languages are spoken in New York City\n",
      "Karachi\n",
      "\t country : Pakistan\n",
      "\t population : 14.91 million\n",
      "\t fact : city of lights\n",
      "Paris\n",
      "\t country : France\n",
      "\t population : 2.141 million\n",
      "\t fact : paris is known as the city of love\n"
     ]
    }
   ],
   "source": [
    "cities = {\n",
    "        \"NewYork\":{\n",
    "                \"country\":\"USA\",\n",
    "                \"population\":\"8.623 million\", \n",
    "                \"fact\" :\"More than 800 languages are spoken in New York City\"\n",
    "            },\n",
    "          \"Karachi\":{\n",
    "                \"country\":\"Pakistan\", \n",
    "                \"population\":\"14.91 million\",\n",
    "                \"fact\" :\"city of lights\"\n",
    "              \n",
    "          },\n",
    "          \"Paris\":{\n",
    "                \"country\":\"France\", \n",
    "                \"population\":\"2.141 million\",\n",
    "                \"fact\" :\"paris is known as the city of love\"\n",
    "          }\n",
    "         }\n",
    "\n",
    "for each_key,each_value in cities.items():\n",
    "    print(each_key)\n",
    "    for each_dict_value,each_dict_key in each_value.items():\n",
    "        print(\"\\t\",each_dict_value,\":\",each_dict_key)\n",
    "\n",
    "    \n"
   ]
  },
  {
   "cell_type": "markdown",
   "metadata": {},
   "source": [
    "# Question3:\n",
    "A movie theater charges different ticket prices depending on a person’s age. If a person is under the age\n",
    "of 3, the ticket is free; if they are between 3 and 12, the ticket is $10; and if they are over age 12, the\n",
    "ticket is $15. Write a loop in which you ask users their age, and then tell them the cost of their movie\n",
    "ticket."
   ]
  },
  {
   "cell_type": "code",
   "execution_count": null,
   "metadata": {},
   "outputs": [
    {
     "name": "stdout",
     "output_type": "stream",
     "text": [
      "Enter Name:M.Usama\n",
      "Enter age:5\n",
      "****___TICKET___****\n",
      "Name: M.Usama \n",
      "Age: 5 \n",
      "Price: The price of Ticket is 10 \n",
      "Enter Name:Aliyan \n",
      "Enter age:10\n",
      "****___TICKET___****\n",
      "Name: Aliyan  \n",
      "Age: 10 \n",
      "Price: The price of Ticket is 10 \n",
      "Enter Name:Nimra\n",
      "Enter age:3\n",
      "****___TICKET___****\n",
      "Name: Nimra \n",
      "Age: 3 \n",
      "Price: The Ticket is free \n"
     ]
    }
   ],
   "source": [
    "\n",
    "i = 0\n",
    "while i <= 10:\n",
    "    name = input(\"Enter Name:\")\n",
    "    age = int(input(\"Enter age:\"))\n",
    "    print(\"****___TICKET___****\")\n",
    "    if age <= 3:\n",
    "       print(\"Name:\",name,\"\\nAge:\",age,\"\\nPrice: The Ticket is free \")\n",
    "    elif age <=12:\n",
    "        print(\"Name:\",name,\"\\nAge:\",age,\"\\nPrice: The price of Ticket is 10 \")\n",
    "    elif age >12:\n",
    "        print(\"Name:\",name,\"\\nAge:\",age,\"\\nPrice: The price of Ticket is 15 \")\n",
    "    i= i-1"
   ]
  },
  {
   "cell_type": "markdown",
   "metadata": {},
   "source": [
    "# Question4:\n",
    "Write a function called favorite_book() that accepts one parameter, title. The function should print a\n",
    "message, such as One of my favorite books is Alice in Wonderland. Call the function, making sure to\n",
    "include a book title as an argument in the function call."
   ]
  },
  {
   "cell_type": "code",
   "execution_count": 12,
   "metadata": {},
   "outputs": [
    {
     "name": "stdout",
     "output_type": "stream",
     "text": [
      "Enter the name of book:holy quran\n",
      "One of my favorite books is holy quran .\n"
     ]
    }
   ],
   "source": [
    "def favorite_book(a):\n",
    "    print(\"One of my favorite books is\",a,\".\")\n",
    "book_name= input(\"Enter the name of book:\")\n",
    "favorite_book(book_name)"
   ]
  },
  {
   "cell_type": "markdown",
   "metadata": {},
   "source": [
    "# Question5:\n",
    "Guess the number game\n",
    "Write a program which randomly generate a number between 1 to 30 and ask the user in input field to\n",
    "guess the correct number. Give three chances to user guess the number and also give hint to user if\n",
    "hidden number is greater or smaller than the number he given to input field."
   ]
  },
  {
   "cell_type": "code",
   "execution_count": null,
   "metadata": {},
   "outputs": [],
   "source": [
    "\n",
    "def game():\n",
    "    import random\n",
    "    ran = random.randint(1,30)\n",
    "    if ran >= 1 and ran <=5:\n",
    "        print(\"The Number is between the 1-5\",ran)\n",
    "    elif ran >= 6 and ran <=10:\n",
    "        print(\"The Number is between the 6-10\",ran)\n",
    "    elif ran >=11 and ran <=15:\n",
    "        print(\"The Number is between the 11-15\",ran)\n",
    "    elif ran >=16 and ran <=20:\n",
    "        print(\"The Number is between the 16-20\",ran) \n",
    "    elif ran >=21 and ran <=25:\n",
    "        print(\"The Number is between the 21-25\",ran)\n",
    "    elif ran >=26 and ran <=30:\n",
    "        print(\"The Number is between the 26-30\",ran) \n",
    "    input_usr = int(input(\"Enter the number :\"))\n",
    "    if input_usr == ran:\n",
    "        print(\"Well done you guessed the correct number that is\",ran)\n",
    "    else:\n",
    "        print(\"Sorry you guessed the wrong number that is \",input_usr,\"but the random number is\",ran)\n",
    "        game()\n",
    "game()\n",
    "    \n",
    "        \n",
    "    \n",
    "\n",
    "\n"
   ]
  },
  {
   "cell_type": "code",
   "execution_count": null,
   "metadata": {},
   "outputs": [],
   "source": [
    "\n"
   ]
  },
  {
   "cell_type": "code",
   "execution_count": null,
   "metadata": {},
   "outputs": [],
   "source": []
  },
  {
   "cell_type": "code",
   "execution_count": null,
   "metadata": {},
   "outputs": [],
   "source": [
    "\n"
   ]
  },
  {
   "cell_type": "code",
   "execution_count": null,
   "metadata": {},
   "outputs": [],
   "source": []
  }
 ],
 "metadata": {
  "kernelspec": {
   "display_name": "Python 3",
   "language": "python",
   "name": "python3"
  },
  "language_info": {
   "codemirror_mode": {
    "name": "ipython",
    "version": 3
   },
   "file_extension": ".py",
   "mimetype": "text/x-python",
   "name": "python",
   "nbconvert_exporter": "python",
   "pygments_lexer": "ipython3",
   "version": "3.7.3"
  }
 },
 "nbformat": 4,
 "nbformat_minor": 2
}
